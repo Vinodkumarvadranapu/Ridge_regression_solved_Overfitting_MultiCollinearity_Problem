{
  "nbformat": 4,
  "nbformat_minor": 0,
  "metadata": {
    "colab": {
      "provenance": []
    },
    "kernelspec": {
      "name": "python3",
      "display_name": "Python 3"
    },
    "language_info": {
      "name": "python"
    }
  },
  "cells": [
    {
      "cell_type": "code",
      "execution_count": null,
      "metadata": {
        "id": "H0WgAzfCbo20"
      },
      "outputs": [],
      "source": [
        "import numpy as np\n",
        "import matplotlib.pyplot as plt"
      ]
    },
    {
      "cell_type": "code",
      "source": [
        "X = np.array([[2, 4, 6, 8, 10]]).T\n",
        "y = np.array([4, 8, 12, 16, 20]).reshape(-1, 1)"
      ],
      "metadata": {
        "id": "4280uLabbsU1"
      },
      "execution_count": null,
      "outputs": []
    },
    {
      "cell_type": "code",
      "source": [
        "class RidgeRegression:\n",
        "    def __init__(self, alpha):\n",
        "        self.alpha = alpha\n",
        "\n",
        "    def fit(self, X, y):\n",
        "        n, m = X.shape\n",
        "        A = np.dot(X.T, X) + self.alpha * np.identity(m)\n",
        "        b = np.dot(X.T, y)\n",
        "        self.w = np.dot(np.linalg.inv(A), b)\n",
        "\n",
        "    def predict(self, X):\n",
        "        return np.dot(X, self.w)"
      ],
      "metadata": {
        "id": "gEzSKE1ebsWs"
      },
      "execution_count": null,
      "outputs": []
    },
    {
      "cell_type": "code",
      "source": [
        "alpha = 1.0\n",
        "model = RidgeRegression(alpha)\n",
        "model.fit(X, y)"
      ],
      "metadata": {
        "id": "gZEJyiTLbsaI"
      },
      "execution_count": null,
      "outputs": []
    },
    {
      "cell_type": "code",
      "source": [
        "X_test = np.array([[12, 14, 16]]).T\n",
        "y_pred = model.predict(X_test)"
      ],
      "metadata": {
        "id": "9VMu5DEmbscn"
      },
      "execution_count": null,
      "outputs": []
    },
    {
      "cell_type": "code",
      "source": [
        "print(y_pred)"
      ],
      "metadata": {
        "colab": {
          "base_uri": "https://localhost:8080/"
        },
        "id": "pgv1VOhabse8",
        "outputId": "8d609adf-ce0b-4ec3-b67d-54b932dd965d"
      },
      "execution_count": null,
      "outputs": [
        {
          "output_type": "stream",
          "name": "stdout",
          "text": [
            "[[23.89140271]\n",
            " [27.87330317]\n",
            " [31.85520362]]\n"
          ]
        }
      ]
    },
    {
      "cell_type": "code",
      "source": [
        "plt.scatter(X, y)\n",
        "plt.plot(X_test, y_pred, color='red')\n",
        "plt.show()"
      ],
      "metadata": {
        "colab": {
          "base_uri": "https://localhost:8080/",
          "height": 265
        },
        "id": "iSe4bh6Kbsg_",
        "outputId": "c1ec9d1d-6257-4308-d92d-5c670713d386"
      },
      "execution_count": null,
      "outputs": [
        {
          "output_type": "display_data",
          "data": {
            "text/plain": [
              "<Figure size 432x288 with 1 Axes>"
            ],
            "image/png": "[encoded data removed]"
          },
          "metadata": {
            "needs_background": "light"
          }
        }
      ]
    },
    {
      "cell_type": "code",
      "source": [],
      "metadata": {
        "id": "jNOjdmm_bsjD"
      },
      "execution_count": null,
      "outputs": []
    },
    {
      "cell_type": "code",
      "source": [],
      "metadata": {
        "id": "AR_QGd3ZbsmU"
      },
      "execution_count": null,
      "outputs": []
    }
  ]
}